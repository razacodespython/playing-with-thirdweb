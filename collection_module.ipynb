{
 "cells": [
  {
   "cell_type": "code",
   "execution_count": 6,
   "metadata": {},
   "outputs": [
    {
     "name": "stdout",
     "output_type": "stream",
     "text": [
      "Defaulting to user installation because normal site-packages is not writeable\n",
      "Requirement already satisfied: nftlabs-sdk in /Users/razazaidi/Library/Python/3.8/lib/python/site-packages (0.3.0)\n",
      "Requirement already satisfied: dataclasses-json<0.6.0,>=0.5.6 in /Users/razazaidi/Library/Python/3.8/lib/python/site-packages (from nftlabs-sdk) (0.5.6)\n",
      "Requirement already satisfied: web3<6.0.0,>=5.24.0 in /Users/razazaidi/Library/Python/3.8/lib/python/site-packages (from nftlabs-sdk) (5.24.0)\n",
      "Requirement already satisfied: 0x-contract-wrappers<3.0.0,>=2.0.0 in /Users/razazaidi/Library/Python/3.8/lib/python/site-packages (from nftlabs-sdk) (2.0.0)\n",
      "Requirement already satisfied: requests<3.0.0,>=2.26.0 in /Users/razazaidi/Library/Python/3.8/lib/python/site-packages (from nftlabs-sdk) (2.26.0)\n",
      "Requirement already satisfied: attrs in /Users/razazaidi/Library/Python/3.8/lib/python/site-packages (from 0x-contract-wrappers<3.0.0,>=2.0.0->nftlabs-sdk) (21.2.0)\n",
      "Requirement already satisfied: 0x-order-utils in /Users/razazaidi/Library/Python/3.8/lib/python/site-packages (from 0x-contract-wrappers<3.0.0,>=2.0.0->nftlabs-sdk) (4.0.1)\n",
      "Requirement already satisfied: 0x-contract-addresses in /Users/razazaidi/Library/Python/3.8/lib/python/site-packages (from 0x-contract-wrappers<3.0.0,>=2.0.0->nftlabs-sdk) (3.0.0)\n",
      "Requirement already satisfied: mypy-extensions in /Users/razazaidi/Library/Python/3.8/lib/python/site-packages (from 0x-contract-wrappers<3.0.0,>=2.0.0->nftlabs-sdk) (0.4.3)\n",
      "Requirement already satisfied: eth-utils in /Users/razazaidi/Library/Python/3.8/lib/python/site-packages (from 0x-contract-wrappers<3.0.0,>=2.0.0->nftlabs-sdk) (1.10.0)\n",
      "Requirement already satisfied: 0x-json-schemas in /Users/razazaidi/Library/Python/3.8/lib/python/site-packages (from 0x-contract-wrappers<3.0.0,>=2.0.0->nftlabs-sdk) (2.1.0)\n",
      "Requirement already satisfied: 0x-contract-artifacts in /Users/razazaidi/Library/Python/3.8/lib/python/site-packages (from 0x-contract-wrappers<3.0.0,>=2.0.0->nftlabs-sdk) (3.0.0)\n",
      "Requirement already satisfied: typing-inspect>=0.4.0 in /Users/razazaidi/Library/Python/3.8/lib/python/site-packages (from dataclasses-json<0.6.0,>=0.5.6->nftlabs-sdk) (0.7.1)\n",
      "Requirement already satisfied: marshmallow<4.0.0,>=3.3.0 in /Users/razazaidi/Library/Python/3.8/lib/python/site-packages (from dataclasses-json<0.6.0,>=0.5.6->nftlabs-sdk) (3.14.0)\n",
      "Requirement already satisfied: marshmallow-enum<2.0.0,>=1.5.1 in /Users/razazaidi/Library/Python/3.8/lib/python/site-packages (from dataclasses-json<0.6.0,>=0.5.6->nftlabs-sdk) (1.5.1)\n",
      "Requirement already satisfied: urllib3<1.27,>=1.21.1 in /Users/razazaidi/Library/Python/3.8/lib/python/site-packages (from requests<3.0.0,>=2.26.0->nftlabs-sdk) (1.26.7)\n",
      "Requirement already satisfied: certifi>=2017.4.17 in /Users/razazaidi/Library/Python/3.8/lib/python/site-packages (from requests<3.0.0,>=2.26.0->nftlabs-sdk) (2021.10.8)\n",
      "Requirement already satisfied: idna<4,>=2.5 in /Users/razazaidi/Library/Python/3.8/lib/python/site-packages (from requests<3.0.0,>=2.26.0->nftlabs-sdk) (3.3)\n",
      "Requirement already satisfied: charset-normalizer~=2.0.0 in /Users/razazaidi/Library/Python/3.8/lib/python/site-packages (from requests<3.0.0,>=2.26.0->nftlabs-sdk) (2.0.7)\n",
      "Requirement already satisfied: typing-extensions>=3.7.4 in /Users/razazaidi/Library/Python/3.8/lib/python/site-packages (from typing-inspect>=0.4.0->dataclasses-json<0.6.0,>=0.5.6->nftlabs-sdk) (3.10.0.2)\n",
      "Requirement already satisfied: websockets<10,>=9.1 in /Users/razazaidi/Library/Python/3.8/lib/python/site-packages (from web3<6.0.0,>=5.24.0->nftlabs-sdk) (9.1)\n",
      "Requirement already satisfied: protobuf<4,>=3.10.0 in /Users/razazaidi/Library/Python/3.8/lib/python/site-packages (from web3<6.0.0,>=5.24.0->nftlabs-sdk) (3.19.1)\n",
      "Requirement already satisfied: aiohttp<4,>=3.7.4.post0 in /Users/razazaidi/Library/Python/3.8/lib/python/site-packages (from web3<6.0.0,>=5.24.0->nftlabs-sdk) (3.8.0)\n",
      "Requirement already satisfied: hexbytes<1.0.0,>=0.1.0 in /Users/razazaidi/Library/Python/3.8/lib/python/site-packages (from web3<6.0.0,>=5.24.0->nftlabs-sdk) (0.2.2)\n",
      "Requirement already satisfied: eth-account<0.6.0,>=0.5.6 in /Users/razazaidi/Library/Python/3.8/lib/python/site-packages (from web3<6.0.0,>=5.24.0->nftlabs-sdk) (0.5.6)\n",
      "Requirement already satisfied: ipfshttpclient==0.8.0a2 in /Users/razazaidi/Library/Python/3.8/lib/python/site-packages (from web3<6.0.0,>=5.24.0->nftlabs-sdk) (0.8.0a2)\n",
      "Requirement already satisfied: eth-abi<3.0.0,>=2.0.0b6 in /Users/razazaidi/Library/Python/3.8/lib/python/site-packages (from web3<6.0.0,>=5.24.0->nftlabs-sdk) (2.1.1)\n",
      "Requirement already satisfied: lru-dict<2.0.0,>=1.1.6 in /Users/razazaidi/Library/Python/3.8/lib/python/site-packages (from web3<6.0.0,>=5.24.0->nftlabs-sdk) (1.1.7)\n",
      "Requirement already satisfied: jsonschema<4.0.0,>=3.2.0 in /Users/razazaidi/Library/Python/3.8/lib/python/site-packages (from web3<6.0.0,>=5.24.0->nftlabs-sdk) (3.2.0)\n",
      "Requirement already satisfied: eth-hash[pycryptodome]<1.0.0,>=0.2.0 in /Users/razazaidi/Library/Python/3.8/lib/python/site-packages (from web3<6.0.0,>=5.24.0->nftlabs-sdk) (0.3.2)\n",
      "Requirement already satisfied: eth-typing<3.0.0,>=2.0.0 in /Users/razazaidi/Library/Python/3.8/lib/python/site-packages (from web3<6.0.0,>=5.24.0->nftlabs-sdk) (2.2.2)\n",
      "Requirement already satisfied: multiaddr>=0.0.7 in /Users/razazaidi/Library/Python/3.8/lib/python/site-packages (from ipfshttpclient==0.8.0a2->web3<6.0.0,>=5.24.0->nftlabs-sdk) (0.0.9)\n",
      "Requirement already satisfied: async-timeout<5.0,>=4.0.0a3 in /Users/razazaidi/Library/Python/3.8/lib/python/site-packages (from aiohttp<4,>=3.7.4.post0->web3<6.0.0,>=5.24.0->nftlabs-sdk) (4.0.0)\n",
      "Requirement already satisfied: multidict<7.0,>=4.5 in /Users/razazaidi/Library/Python/3.8/lib/python/site-packages (from aiohttp<4,>=3.7.4.post0->web3<6.0.0,>=5.24.0->nftlabs-sdk) (5.2.0)\n",
      "Requirement already satisfied: aiosignal>=1.1.2 in /Users/razazaidi/Library/Python/3.8/lib/python/site-packages (from aiohttp<4,>=3.7.4.post0->web3<6.0.0,>=5.24.0->nftlabs-sdk) (1.2.0)\n",
      "Requirement already satisfied: frozenlist>=1.1.1 in /Users/razazaidi/Library/Python/3.8/lib/python/site-packages (from aiohttp<4,>=3.7.4.post0->web3<6.0.0,>=5.24.0->nftlabs-sdk) (1.2.0)\n",
      "Requirement already satisfied: yarl<2.0,>=1.0 in /Users/razazaidi/Library/Python/3.8/lib/python/site-packages (from aiohttp<4,>=3.7.4.post0->web3<6.0.0,>=5.24.0->nftlabs-sdk) (1.7.2)\n",
      "Requirement already satisfied: parsimonious<0.9.0,>=0.8.0 in /Users/razazaidi/Library/Python/3.8/lib/python/site-packages (from eth-abi<3.0.0,>=2.0.0b6->web3<6.0.0,>=5.24.0->nftlabs-sdk) (0.8.1)\n",
      "Requirement already satisfied: rlp<3,>=1.0.0 in /Users/razazaidi/Library/Python/3.8/lib/python/site-packages (from eth-account<0.6.0,>=0.5.6->web3<6.0.0,>=5.24.0->nftlabs-sdk) (2.0.1)\n",
      "Requirement already satisfied: eth-keyfile<0.6.0,>=0.5.0 in /Users/razazaidi/Library/Python/3.8/lib/python/site-packages (from eth-account<0.6.0,>=0.5.6->web3<6.0.0,>=5.24.0->nftlabs-sdk) (0.5.1)\n",
      "Requirement already satisfied: eth-rlp<2,>=0.1.2 in /Users/razazaidi/Library/Python/3.8/lib/python/site-packages (from eth-account<0.6.0,>=0.5.6->web3<6.0.0,>=5.24.0->nftlabs-sdk) (0.2.1)\n",
      "Requirement already satisfied: eth-keys!=0.3.2,<0.4.0,>=0.2.1 in /Users/razazaidi/Library/Python/3.8/lib/python/site-packages (from eth-account<0.6.0,>=0.5.6->web3<6.0.0,>=5.24.0->nftlabs-sdk) (0.3.3)\n",
      "Requirement already satisfied: bitarray<1.3.0,>=1.2.1 in /Users/razazaidi/Library/Python/3.8/lib/python/site-packages (from eth-account<0.6.0,>=0.5.6->web3<6.0.0,>=5.24.0->nftlabs-sdk) (1.2.2)\n",
      "Requirement already satisfied: pycryptodome<4,>=3.6.6 in /Users/razazaidi/Library/Python/3.8/lib/python/site-packages (from eth-hash[pycryptodome]<1.0.0,>=0.2.0->web3<6.0.0,>=5.24.0->nftlabs-sdk) (3.11.0)\n",
      "Requirement already satisfied: cytoolz<1.0.0,>=0.9.0 in /Users/razazaidi/Library/Python/3.8/lib/python/site-packages (from eth-keyfile<0.6.0,>=0.5.0->eth-account<0.6.0,>=0.5.6->web3<6.0.0,>=5.24.0->nftlabs-sdk) (0.11.2)\n",
      "Requirement already satisfied: toolz>=0.8.0 in /Users/razazaidi/Library/Python/3.8/lib/python/site-packages (from cytoolz<1.0.0,>=0.9.0->eth-keyfile<0.6.0,>=0.5.0->eth-account<0.6.0,>=0.5.6->web3<6.0.0,>=5.24.0->nftlabs-sdk) (0.11.2)\n",
      "Requirement already satisfied: pyrsistent>=0.14.0 in /Users/razazaidi/Library/Python/3.8/lib/python/site-packages (from jsonschema<4.0.0,>=3.2.0->web3<6.0.0,>=5.24.0->nftlabs-sdk) (0.18.0)\n",
      "Requirement already satisfied: six>=1.11.0 in /Library/Developer/CommandLineTools/Library/Frameworks/Python3.framework/Versions/3.8/lib/python3.8/site-packages (from jsonschema<4.0.0,>=3.2.0->web3<6.0.0,>=5.24.0->nftlabs-sdk) (1.15.0)\n",
      "Requirement already satisfied: setuptools in /Library/Developer/CommandLineTools/Library/Frameworks/Python3.framework/Versions/3.8/lib/python3.8/site-packages (from jsonschema<4.0.0,>=3.2.0->web3<6.0.0,>=5.24.0->nftlabs-sdk) (41.2.0)\n",
      "Requirement already satisfied: netaddr in /Users/razazaidi/Library/Python/3.8/lib/python/site-packages (from multiaddr>=0.0.7->ipfshttpclient==0.8.0a2->web3<6.0.0,>=5.24.0->nftlabs-sdk) (0.8.0)\n",
      "Requirement already satisfied: base58 in /Users/razazaidi/Library/Python/3.8/lib/python/site-packages (from multiaddr>=0.0.7->ipfshttpclient==0.8.0a2->web3<6.0.0,>=5.24.0->nftlabs-sdk) (2.1.1)\n",
      "Requirement already satisfied: varint in /Users/razazaidi/Library/Python/3.8/lib/python/site-packages (from multiaddr>=0.0.7->ipfshttpclient==0.8.0a2->web3<6.0.0,>=5.24.0->nftlabs-sdk) (1.0.2)\n",
      "Requirement already satisfied: stringcase in /Users/razazaidi/Library/Python/3.8/lib/python/site-packages (from 0x-json-schemas->0x-contract-wrappers<3.0.0,>=2.0.0->nftlabs-sdk) (1.2.0)\n",
      "Requirement already satisfied: deprecated in /Users/razazaidi/Library/Python/3.8/lib/python/site-packages (from 0x-order-utils->0x-contract-wrappers<3.0.0,>=2.0.0->nftlabs-sdk) (1.2.13)\n",
      "Requirement already satisfied: wrapt<2,>=1.10 in /Users/razazaidi/Library/Python/3.8/lib/python/site-packages (from deprecated->0x-order-utils->0x-contract-wrappers<3.0.0,>=2.0.0->nftlabs-sdk) (1.12.1)\n",
      "\u001b[33mWARNING: You are using pip version 21.0.1; however, version 21.3.1 is available.\n",
      "You should consider upgrading via the '/Library/Developer/CommandLineTools/usr/bin/python3 -m pip install --upgrade pip' command.\u001b[0m\n",
      "Note: you may need to restart the kernel to use updated packages.\n"
     ]
    }
   ],
   "source": [
    "pip install nftlabs-sdk"
   ]
  },
  {
   "cell_type": "code",
   "execution_count": 7,
   "metadata": {},
   "outputs": [],
   "source": [
    "# Importing stuff\n",
    "from nftlabs import NftlabsSdk, SdkOptions, ListArg, MintArg\n",
    "import os"
   ]
  },
  {
   "cell_type": "code",
   "execution_count": 8,
   "metadata": {},
   "outputs": [],
   "source": [
    "#choose your network\n",
    "\n",
    "network = \"https://rinkeby-light.eth.linkpool.io/\"\n",
    "sdk = NftlabsSdk(SdkOptions(), network)\n",
    "#dont forget to hide your private key\n",
    "sdk.set_private_key("<enter private key here>")"
   ]
  },
  {
   "cell_type": "code",
   "execution_count": 9,
   "metadata": {},
   "outputs": [],
   "source": [
    "#pick your module and enter the smart contract address\n",
    "collection_module_address = \"0xbb91Fa16F44200a5d7e813De3Dc9c98fDC9E1d14\"\n",
    "collection_module = sdk.get_collection_module(collection_module_address)"
   ]
  },
  {
   "cell_type": "code",
   "execution_count": 10,
   "metadata": {},
   "outputs": [
    {
     "name": "stdout",
     "output_type": "stream",
     "text": [
      "10\n"
     ]
    }
   ],
   "source": [
    "#This method prints out the balance of your nft smartcontract\n",
    "#The amount returend is the amount of nft's that this contract is holding!\n",
    "print(collection_module.balance(0))"
   ]
  }
 ],
 "metadata": {
  "interpreter": {
   "hash": "a2d3aaee4560012b18958894f21c6dab05acf2cbe4b1b644ee955ae7df40fd79"
  },
  "kernelspec": {
   "display_name": "Python 3.8.12 64-bit ('nft': conda)",
   "language": "python",
   "name": "python3"
  },
  "language_info": {
   "codemirror_mode": {
    "name": "ipython",
    "version": 3
   },
   "file_extension": ".py",
   "mimetype": "text/x-python",
   "name": "python",
   "nbconvert_exporter": "python",
   "pygments_lexer": "ipython3",
   "version": "3.8.2"
  },
  "orig_nbformat": 4
 },
 "nbformat": 4,
 "nbformat_minor": 2
}
